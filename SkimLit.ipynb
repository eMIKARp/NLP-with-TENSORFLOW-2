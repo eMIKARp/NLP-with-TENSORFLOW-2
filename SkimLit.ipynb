{
  "nbformat": 4,
  "nbformat_minor": 0,
  "metadata": {
    "colab": {
      "provenance": [],
      "authorship_tag": "ABX9TyNtYqTIM3iZylX4ZUDWe1CT"
    },
    "kernelspec": {
      "name": "python3",
      "display_name": "Python 3"
    },
    "language_info": {
      "name": "python"
    },
    "accelerator": "GPU",
    "gpuClass": "standard"
  },
  "cells": [
    {
      "cell_type": "code",
      "execution_count": 53,
      "metadata": {
        "colab": {
          "base_uri": "https://localhost:8080/"
        },
        "id": "bpFR8rXRfKrn",
        "outputId": "4b0ec615-a49e-4951-f127-967ce707e927"
      },
      "outputs": [
        {
          "output_type": "stream",
          "name": "stdout",
          "text": [
            "GPU 0: Tesla T4 (UUID: GPU-f7489ad1-6810-277a-4561-450144e9fda7)\n"
          ]
        }
      ],
      "source": [
        "!nvidia-smi -L"
      ]
    },
    {
      "cell_type": "code",
      "source": [
        "!git clone https://github.com/Franck-Dernoncourt/pubmed-rct.git"
      ],
      "metadata": {
        "colab": {
          "base_uri": "https://localhost:8080/"
        },
        "id": "rjR6mi-moUuu",
        "outputId": "6b75f817-cfb4-409e-b655-6cf116b89144"
      },
      "execution_count": 54,
      "outputs": [
        {
          "output_type": "stream",
          "name": "stdout",
          "text": [
            "fatal: destination path 'pubmed-rct' already exists and is not an empty directory.\n"
          ]
        }
      ]
    },
    {
      "cell_type": "code",
      "source": [
        "!ls pubmed-rct"
      ],
      "metadata": {
        "id": "EA4_m4bupAnL",
        "outputId": "8309e88f-423a-4dc1-f515-0109646d346e",
        "colab": {
          "base_uri": "https://localhost:8080/"
        }
      },
      "execution_count": 55,
      "outputs": [
        {
          "output_type": "stream",
          "name": "stdout",
          "text": [
            "PubMed_200k_RCT\n",
            "PubMed_200k_RCT_numbers_replaced_with_at_sign\n",
            "PubMed_20k_RCT\n",
            "PubMed_20k_RCT_numbers_replaced_with_at_sign\n",
            "README.md\n"
          ]
        }
      ]
    },
    {
      "cell_type": "code",
      "source": [
        "!ls pubmed-rct/PubMed_20k_RCT_numbers_replaced_with_at_sign/"
      ],
      "metadata": {
        "id": "ra3Z0JQapKyq",
        "outputId": "a730b938-e558-49b4-e43a-32170bb10054",
        "colab": {
          "base_uri": "https://localhost:8080/"
        }
      },
      "execution_count": 56,
      "outputs": [
        {
          "output_type": "stream",
          "name": "stdout",
          "text": [
            "dev.txt  test.txt  train.txt\n"
          ]
        }
      ]
    },
    {
      "cell_type": "code",
      "source": [
        "data_dir = '/content/pubmed-rct/PubMed_20k_RCT_numbers_replaced_with_at_sign/'"
      ],
      "metadata": {
        "id": "ad7RUJdEpbPl"
      },
      "execution_count": 57,
      "outputs": []
    },
    {
      "cell_type": "code",
      "source": [
        "import os\n",
        "\n",
        "paths_to_files = [data_dir + file_name for file_name in os.listdir(data_dir)]\n",
        "\n",
        "paths_to_files"
      ],
      "metadata": {
        "id": "9IhaXeFvqW2q",
        "outputId": "3488fc14-77e1-4a98-81bf-1f90cb16b735",
        "colab": {
          "base_uri": "https://localhost:8080/"
        }
      },
      "execution_count": 58,
      "outputs": [
        {
          "output_type": "execute_result",
          "data": {
            "text/plain": [
              "['/content/pubmed-rct/PubMed_20k_RCT_numbers_replaced_with_at_sign/train.txt',\n",
              " '/content/pubmed-rct/PubMed_20k_RCT_numbers_replaced_with_at_sign/dev.txt',\n",
              " '/content/pubmed-rct/PubMed_20k_RCT_numbers_replaced_with_at_sign/test.txt']"
            ]
          },
          "metadata": {},
          "execution_count": 58
        }
      ]
    },
    {
      "cell_type": "code",
      "source": [
        "def getlines(filename) -> list:\n",
        "  \"\"\"\n",
        "  Reads filename (a text file name) and returns the lines of text as a list\n",
        "  \n",
        "  Args:\n",
        "    filename: a string containing the target filepath\n",
        "\n",
        "  Returns:\n",
        "    a list of strings with one string per line from the target filename.\n",
        "  \"\"\"\n",
        "\n",
        "  with open(filename,'r') as f:\n",
        "    return f.readlines()\n",
        "\n",
        "\n"
      ],
      "metadata": {
        "id": "4Mjg7Mc5qZpg"
      },
      "execution_count": 59,
      "outputs": []
    },
    {
      "cell_type": "code",
      "source": [
        "train_lines = getlines(data_dir + 'train.txt')\n",
        "\n",
        "train_lines[:20]"
      ],
      "metadata": {
        "id": "yVWDIL-zvXnv",
        "outputId": "218309eb-a7f2-4c5b-b9e3-f5d0cb0f2758",
        "colab": {
          "base_uri": "https://localhost:8080/"
        }
      },
      "execution_count": 60,
      "outputs": [
        {
          "output_type": "execute_result",
          "data": {
            "text/plain": [
              "['###24293578\\n',\n",
              " 'OBJECTIVE\\tTo investigate the efficacy of @ weeks of daily low-dose oral prednisolone in improving pain , mobility , and systemic low-grade inflammation in the short term and whether the effect would be sustained at @ weeks in older adults with moderate to severe knee osteoarthritis ( OA ) .\\n',\n",
              " 'METHODS\\tA total of @ patients with primary knee OA were randomized @:@ ; @ received @ mg/day of prednisolone and @ received placebo for @ weeks .\\n',\n",
              " 'METHODS\\tOutcome measures included pain reduction and improvement in function scores and systemic inflammation markers .\\n',\n",
              " 'METHODS\\tPain was assessed using the visual analog pain scale ( @-@ mm ) .\\n',\n",
              " 'METHODS\\tSecondary outcome measures included the Western Ontario and McMaster Universities Osteoarthritis Index scores , patient global assessment ( PGA ) of the severity of knee OA , and @-min walk distance ( @MWD ) .\\n',\n",
              " 'METHODS\\tSerum levels of interleukin @ ( IL-@ ) , IL-@ , tumor necrosis factor ( TNF ) - , and high-sensitivity C-reactive protein ( hsCRP ) were measured .\\n',\n",
              " 'RESULTS\\tThere was a clinically relevant reduction in the intervention group compared to the placebo group for knee pain , physical function , PGA , and @MWD at @ weeks .\\n',\n",
              " 'RESULTS\\tThe mean difference between treatment arms ( @ % CI ) was @ ( @-@ @ ) , p < @ ; @ ( @-@ @ ) , p < @ ; @ ( @-@ @ ) , p < @ ; and @ ( @-@ @ ) , p < @ , respectively .\\n',\n",
              " 'RESULTS\\tFurther , there was a clinically relevant reduction in the serum levels of IL-@ , IL-@ , TNF - , and hsCRP at @ weeks in the intervention group when compared to the placebo group .\\n',\n",
              " 'RESULTS\\tThese differences remained significant at @ weeks .\\n',\n",
              " 'RESULTS\\tThe Outcome Measures in Rheumatology Clinical Trials-Osteoarthritis Research Society International responder rate was @ % in the intervention group and @ % in the placebo group ( p < @ ) .\\n',\n",
              " 'CONCLUSIONS\\tLow-dose oral prednisolone had both a short-term and a longer sustained effect resulting in less knee pain , better physical function , and attenuation of systemic inflammation in older patients with knee OA ( ClinicalTrials.gov identifier NCT@ ) .\\n',\n",
              " '\\n',\n",
              " '###24854809\\n',\n",
              " 'BACKGROUND\\tEmotional eating is associated with overeating and the development of obesity .\\n',\n",
              " 'BACKGROUND\\tYet , empirical evidence for individual ( trait ) differences in emotional eating and cognitive mechanisms that contribute to eating during sad mood remain equivocal .\\n',\n",
              " 'OBJECTIVE\\tThe aim of this study was to test if attention bias for food moderates the effect of self-reported emotional eating during sad mood ( vs neutral mood ) on actual food intake .\\n',\n",
              " 'OBJECTIVE\\tIt was expected that emotional eating is predictive of elevated attention for food and higher food intake after an experimentally induced sad mood and that attentional maintenance on food predicts food intake during a sad versus a neutral mood .\\n',\n",
              " 'METHODS\\tParticipants ( N = @ ) were randomly assigned to one of the two experimental mood induction conditions ( sad/neutral ) .\\n']"
            ]
          },
          "metadata": {},
          "execution_count": 60
        }
      ]
    },
    {
      "cell_type": "code",
      "source": [
        "len(train_lines)"
      ],
      "metadata": {
        "id": "NXXvw_Yrvjuk",
        "outputId": "39930dd9-912a-4dbf-818b-42da9678f26a",
        "colab": {
          "base_uri": "https://localhost:8080/"
        }
      },
      "execution_count": 61,
      "outputs": [
        {
          "output_type": "execute_result",
          "data": {
            "text/plain": [
              "210040"
            ]
          },
          "metadata": {},
          "execution_count": 61
        }
      ]
    },
    {
      "cell_type": "code",
      "source": [
        "[{'line_number':0,\n",
        "  'target':'BACKGROUND',\n",
        "  'text':'Emotional eating is associated with overeating and the development of obesity .\\n',\n",
        "  'total_lines':11},\n",
        " ]"
      ],
      "metadata": {
        "id": "8PzPqXJDv4Xx",
        "colab": {
          "base_uri": "https://localhost:8080/"
        },
        "outputId": "1039df17-cb9f-4d5c-82a2-8ac983fdd54f"
      },
      "execution_count": 62,
      "outputs": [
        {
          "output_type": "execute_result",
          "data": {
            "text/plain": [
              "[{'line_number': 0,\n",
              "  'target': 'BACKGROUND',\n",
              "  'text': 'Emotional eating is associated with overeating and the development of obesity .\\n',\n",
              "  'total_lines': 11}]"
            ]
          },
          "metadata": {},
          "execution_count": 62
        }
      ]
    },
    {
      "cell_type": "code",
      "source": [
        "def preprocess_text_with_line_numbers(filename):\n",
        "  \"\"\"\n",
        "  Returns a list of dictionaries of abstract line data.\n",
        "  Takes in filename, reads it contents and sorts through each line,\n",
        "  extracting thngs like the target label, the text of sentence, \n",
        "  how many sentences there are in the current abstract and \n",
        "  what sentence number the target line is.\n",
        "  \"\"\"\n",
        "\n",
        "  input_lines = getlines(filename)\n",
        "  abstract_lines = ''\n",
        "  abstract_samples = []\n",
        "\n",
        "  for line in input_lines:\n",
        "    if line.startswith('###'):\n",
        "      abstract_id = line\n",
        "      abstract_lines = ''\n",
        "    elif line.isspace():\n",
        "      abstract_line_split = abstract_lines.splitlines()\n",
        "      for abstract_line_number, abstract_line in enumerate(abstract_line_split):\n",
        "        line_data = {}\n",
        "        target_text_split = abstract_line.split('\\t')\n",
        "        line_data['target'] = target_text_split[0]\n",
        "        line_data['text'] = target_text_split[1].lower()\n",
        "        line_data['line_number'] = abstract_line_number\n",
        "        line_data['total_lines'] = len(abstract_line_split) -1\n",
        "        abstract_samples.append(line_data)\n",
        "\n",
        "    else:\n",
        "      abstract_lines += line\n",
        "\n",
        "  return abstract_samples"
      ],
      "metadata": {
        "id": "t-X8RGGww2_I"
      },
      "execution_count": 63,
      "outputs": []
    },
    {
      "cell_type": "code",
      "source": [
        "%%time\n",
        "\n",
        "train_samples = preprocess_text_with_line_numbers(data_dir + 'train.txt')\n",
        "test_samples = preprocess_text_with_line_numbers(data_dir + 'test.txt')\n",
        "validate_samples = preprocess_text_with_line_numbers(data_dir + 'dev.txt')\n",
        "\n",
        "print(len(train_samples), len(test_samples), len(validate_samples))"
      ],
      "metadata": {
        "id": "zuCIa_je1A8b",
        "outputId": "7c9129a8-f361-4502-f347-393739f98492",
        "colab": {
          "base_uri": "https://localhost:8080/"
        }
      },
      "execution_count": 64,
      "outputs": [
        {
          "output_type": "stream",
          "name": "stdout",
          "text": [
            "180040 30135 30212\n",
            "CPU times: user 421 ms, sys: 91.1 ms, total: 512 ms\n",
            "Wall time: 512 ms\n"
          ]
        }
      ]
    },
    {
      "cell_type": "code",
      "source": [
        "import pandas as pd\n",
        "\n",
        "train_df = pd.DataFrame(train_samples)\n",
        "test_df = pd.DataFrame(test_samples)\n",
        "val_df = pd.DataFrame(validate_samples)"
      ],
      "metadata": {
        "id": "B07tDM7gCFFU"
      },
      "execution_count": 65,
      "outputs": []
    },
    {
      "cell_type": "code",
      "source": [
        "train_df.head()"
      ],
      "metadata": {
        "colab": {
          "base_uri": "https://localhost:8080/",
          "height": 206
        },
        "id": "u3LgToFMCSRs",
        "outputId": "c1ac126f-f24f-4306-9440-48fd97f32852"
      },
      "execution_count": 66,
      "outputs": [
        {
          "output_type": "execute_result",
          "data": {
            "text/plain": [
              "      target                                               text  line_number  \\\n",
              "0  OBJECTIVE  to investigate the efficacy of @ weeks of dail...            0   \n",
              "1    METHODS  a total of @ patients with primary knee oa wer...            1   \n",
              "2    METHODS  outcome measures included pain reduction and i...            2   \n",
              "3    METHODS  pain was assessed using the visual analog pain...            3   \n",
              "4    METHODS  secondary outcome measures included the wester...            4   \n",
              "\n",
              "   total_lines  \n",
              "0           11  \n",
              "1           11  \n",
              "2           11  \n",
              "3           11  \n",
              "4           11  "
            ],
            "text/html": [
              "\n",
              "  <div id=\"df-8c923c61-d12f-41b7-93de-33181ea6ac8c\">\n",
              "    <div class=\"colab-df-container\">\n",
              "      <div>\n",
              "<style scoped>\n",
              "    .dataframe tbody tr th:only-of-type {\n",
              "        vertical-align: middle;\n",
              "    }\n",
              "\n",
              "    .dataframe tbody tr th {\n",
              "        vertical-align: top;\n",
              "    }\n",
              "\n",
              "    .dataframe thead th {\n",
              "        text-align: right;\n",
              "    }\n",
              "</style>\n",
              "<table border=\"1\" class=\"dataframe\">\n",
              "  <thead>\n",
              "    <tr style=\"text-align: right;\">\n",
              "      <th></th>\n",
              "      <th>target</th>\n",
              "      <th>text</th>\n",
              "      <th>line_number</th>\n",
              "      <th>total_lines</th>\n",
              "    </tr>\n",
              "  </thead>\n",
              "  <tbody>\n",
              "    <tr>\n",
              "      <th>0</th>\n",
              "      <td>OBJECTIVE</td>\n",
              "      <td>to investigate the efficacy of @ weeks of dail...</td>\n",
              "      <td>0</td>\n",
              "      <td>11</td>\n",
              "    </tr>\n",
              "    <tr>\n",
              "      <th>1</th>\n",
              "      <td>METHODS</td>\n",
              "      <td>a total of @ patients with primary knee oa wer...</td>\n",
              "      <td>1</td>\n",
              "      <td>11</td>\n",
              "    </tr>\n",
              "    <tr>\n",
              "      <th>2</th>\n",
              "      <td>METHODS</td>\n",
              "      <td>outcome measures included pain reduction and i...</td>\n",
              "      <td>2</td>\n",
              "      <td>11</td>\n",
              "    </tr>\n",
              "    <tr>\n",
              "      <th>3</th>\n",
              "      <td>METHODS</td>\n",
              "      <td>pain was assessed using the visual analog pain...</td>\n",
              "      <td>3</td>\n",
              "      <td>11</td>\n",
              "    </tr>\n",
              "    <tr>\n",
              "      <th>4</th>\n",
              "      <td>METHODS</td>\n",
              "      <td>secondary outcome measures included the wester...</td>\n",
              "      <td>4</td>\n",
              "      <td>11</td>\n",
              "    </tr>\n",
              "  </tbody>\n",
              "</table>\n",
              "</div>\n",
              "      <button class=\"colab-df-convert\" onclick=\"convertToInteractive('df-8c923c61-d12f-41b7-93de-33181ea6ac8c')\"\n",
              "              title=\"Convert this dataframe to an interactive table.\"\n",
              "              style=\"display:none;\">\n",
              "        \n",
              "  <svg xmlns=\"http://www.w3.org/2000/svg\" height=\"24px\"viewBox=\"0 0 24 24\"\n",
              "       width=\"24px\">\n",
              "    <path d=\"M0 0h24v24H0V0z\" fill=\"none\"/>\n",
              "    <path d=\"M18.56 5.44l.94 2.06.94-2.06 2.06-.94-2.06-.94-.94-2.06-.94 2.06-2.06.94zm-11 1L8.5 8.5l.94-2.06 2.06-.94-2.06-.94L8.5 2.5l-.94 2.06-2.06.94zm10 10l.94 2.06.94-2.06 2.06-.94-2.06-.94-.94-2.06-.94 2.06-2.06.94z\"/><path d=\"M17.41 7.96l-1.37-1.37c-.4-.4-.92-.59-1.43-.59-.52 0-1.04.2-1.43.59L10.3 9.45l-7.72 7.72c-.78.78-.78 2.05 0 2.83L4 21.41c.39.39.9.59 1.41.59.51 0 1.02-.2 1.41-.59l7.78-7.78 2.81-2.81c.8-.78.8-2.07 0-2.86zM5.41 20L4 18.59l7.72-7.72 1.47 1.35L5.41 20z\"/>\n",
              "  </svg>\n",
              "      </button>\n",
              "      \n",
              "  <style>\n",
              "    .colab-df-container {\n",
              "      display:flex;\n",
              "      flex-wrap:wrap;\n",
              "      gap: 12px;\n",
              "    }\n",
              "\n",
              "    .colab-df-convert {\n",
              "      background-color: #E8F0FE;\n",
              "      border: none;\n",
              "      border-radius: 50%;\n",
              "      cursor: pointer;\n",
              "      display: none;\n",
              "      fill: #1967D2;\n",
              "      height: 32px;\n",
              "      padding: 0 0 0 0;\n",
              "      width: 32px;\n",
              "    }\n",
              "\n",
              "    .colab-df-convert:hover {\n",
              "      background-color: #E2EBFA;\n",
              "      box-shadow: 0px 1px 2px rgba(60, 64, 67, 0.3), 0px 1px 3px 1px rgba(60, 64, 67, 0.15);\n",
              "      fill: #174EA6;\n",
              "    }\n",
              "\n",
              "    [theme=dark] .colab-df-convert {\n",
              "      background-color: #3B4455;\n",
              "      fill: #D2E3FC;\n",
              "    }\n",
              "\n",
              "    [theme=dark] .colab-df-convert:hover {\n",
              "      background-color: #434B5C;\n",
              "      box-shadow: 0px 1px 3px 1px rgba(0, 0, 0, 0.15);\n",
              "      filter: drop-shadow(0px 1px 2px rgba(0, 0, 0, 0.3));\n",
              "      fill: #FFFFFF;\n",
              "    }\n",
              "  </style>\n",
              "\n",
              "      <script>\n",
              "        const buttonEl =\n",
              "          document.querySelector('#df-8c923c61-d12f-41b7-93de-33181ea6ac8c button.colab-df-convert');\n",
              "        buttonEl.style.display =\n",
              "          google.colab.kernel.accessAllowed ? 'block' : 'none';\n",
              "\n",
              "        async function convertToInteractive(key) {\n",
              "          const element = document.querySelector('#df-8c923c61-d12f-41b7-93de-33181ea6ac8c');\n",
              "          const dataTable =\n",
              "            await google.colab.kernel.invokeFunction('convertToInteractive',\n",
              "                                                     [key], {});\n",
              "          if (!dataTable) return;\n",
              "\n",
              "          const docLinkHtml = 'Like what you see? Visit the ' +\n",
              "            '<a target=\"_blank\" href=https://colab.research.google.com/notebooks/data_table.ipynb>data table notebook</a>'\n",
              "            + ' to learn more about interactive tables.';\n",
              "          element.innerHTML = '';\n",
              "          dataTable['output_type'] = 'display_data';\n",
              "          await google.colab.output.renderOutput(dataTable, element);\n",
              "          const docLink = document.createElement('div');\n",
              "          docLink.innerHTML = docLinkHtml;\n",
              "          element.appendChild(docLink);\n",
              "        }\n",
              "      </script>\n",
              "    </div>\n",
              "  </div>\n",
              "  "
            ]
          },
          "metadata": {},
          "execution_count": 66
        }
      ]
    },
    {
      "cell_type": "code",
      "source": [
        "train_sentences = train_df['text'].to_list()\n",
        "test_sentences = test_df['text'].to_list()\n",
        "validate_sentences = val_df['text'].to_list()\n",
        "\n",
        "train_sentences [:10]"
      ],
      "metadata": {
        "colab": {
          "base_uri": "https://localhost:8080/"
        },
        "id": "HCU6Km2xFjTd",
        "outputId": "20ac9257-337c-4651-d960-2dce3daf0107"
      },
      "execution_count": 67,
      "outputs": [
        {
          "output_type": "execute_result",
          "data": {
            "text/plain": [
              "['to investigate the efficacy of @ weeks of daily low-dose oral prednisolone in improving pain , mobility , and systemic low-grade inflammation in the short term and whether the effect would be sustained at @ weeks in older adults with moderate to severe knee osteoarthritis ( oa ) .',\n",
              " 'a total of @ patients with primary knee oa were randomized @:@ ; @ received @ mg/day of prednisolone and @ received placebo for @ weeks .',\n",
              " 'outcome measures included pain reduction and improvement in function scores and systemic inflammation markers .',\n",
              " 'pain was assessed using the visual analog pain scale ( @-@ mm ) .',\n",
              " 'secondary outcome measures included the western ontario and mcmaster universities osteoarthritis index scores , patient global assessment ( pga ) of the severity of knee oa , and @-min walk distance ( @mwd ) .',\n",
              " 'serum levels of interleukin @ ( il-@ ) , il-@ , tumor necrosis factor ( tnf ) - , and high-sensitivity c-reactive protein ( hscrp ) were measured .',\n",
              " 'there was a clinically relevant reduction in the intervention group compared to the placebo group for knee pain , physical function , pga , and @mwd at @ weeks .',\n",
              " 'the mean difference between treatment arms ( @ % ci ) was @ ( @-@ @ ) , p < @ ; @ ( @-@ @ ) , p < @ ; @ ( @-@ @ ) , p < @ ; and @ ( @-@ @ ) , p < @ , respectively .',\n",
              " 'further , there was a clinically relevant reduction in the serum levels of il-@ , il-@ , tnf - , and hscrp at @ weeks in the intervention group when compared to the placebo group .',\n",
              " 'these differences remained significant at @ weeks .']"
            ]
          },
          "metadata": {},
          "execution_count": 67
        }
      ]
    },
    {
      "cell_type": "code",
      "source": [
        "from sklearn.preprocessing import OneHotEncoder\n",
        "\n",
        "one_hot = OneHotEncoder(sparse = False)\n",
        "train_labels_one_hot = one_hot.fit_transform(train_df['target'].to_numpy().reshape(-1,1))\n",
        "test_labels_one_hot = one_hot.transform(test_df['target'].to_numpy().reshape(-1,1))\n",
        "val_labels_one_hot = one_hot.transform(val_df['target'].to_numpy().reshape(-1,1))\n",
        "\n",
        "train_labels_one_hot[:10]"
      ],
      "metadata": {
        "id": "Wc58xoWV1ahX",
        "colab": {
          "base_uri": "https://localhost:8080/"
        },
        "outputId": "b13ca6bc-fdae-4895-c43a-0e98a6e209a6"
      },
      "execution_count": 68,
      "outputs": [
        {
          "output_type": "execute_result",
          "data": {
            "text/plain": [
              "array([[0., 0., 0., 1., 0.],\n",
              "       [0., 0., 1., 0., 0.],\n",
              "       [0., 0., 1., 0., 0.],\n",
              "       [0., 0., 1., 0., 0.],\n",
              "       [0., 0., 1., 0., 0.],\n",
              "       [0., 0., 1., 0., 0.],\n",
              "       [0., 0., 0., 0., 1.],\n",
              "       [0., 0., 0., 0., 1.],\n",
              "       [0., 0., 0., 0., 1.],\n",
              "       [0., 0., 0., 0., 1.]])"
            ]
          },
          "metadata": {},
          "execution_count": 68
        }
      ]
    },
    {
      "cell_type": "code",
      "source": [
        "from sklearn.preprocessing import LabelEncoder\n",
        "\n",
        "label_encoder = LabelEncoder()\n",
        "\n",
        "train_labels_encoded = label_encoder.fit_transform(train_df['target'].to_numpy())\n",
        "test_labels_encoded = label_encoder.transform(test_df['target'].to_numpy())\n",
        "val_labels_encoded = label_encoder.transform(val_df['target'].to_numpy())\n",
        "\n",
        "train_labels_encoded[:10]"
      ],
      "metadata": {
        "colab": {
          "base_uri": "https://localhost:8080/"
        },
        "id": "mq8sAbnvCEdt",
        "outputId": "58474cb8-6516-40d0-fef9-50a957438718"
      },
      "execution_count": 69,
      "outputs": [
        {
          "output_type": "execute_result",
          "data": {
            "text/plain": [
              "array([3, 2, 2, 2, 2, 2, 4, 4, 4, 4])"
            ]
          },
          "metadata": {},
          "execution_count": 69
        }
      ]
    },
    {
      "cell_type": "code",
      "source": [
        "num_classes = len(label_encoder.classes_)\n",
        "class_names = label_encoder.classes_\n",
        "\n",
        "num_classes,class_names"
      ],
      "metadata": {
        "colab": {
          "base_uri": "https://localhost:8080/"
        },
        "id": "bvp7cM_MB7wj",
        "outputId": "35124486-331e-48f6-de5d-0204f5cd3c62"
      },
      "execution_count": 70,
      "outputs": [
        {
          "output_type": "execute_result",
          "data": {
            "text/plain": [
              "(5, array(['BACKGROUND', 'CONCLUSIONS', 'METHODS', 'OBJECTIVE', 'RESULTS'],\n",
              "       dtype=object))"
            ]
          },
          "metadata": {},
          "execution_count": 70
        }
      ]
    },
    {
      "cell_type": "code",
      "source": [],
      "metadata": {
        "id": "wZkSsYSMEJym"
      },
      "execution_count": 70,
      "outputs": []
    },
    {
      "cell_type": "markdown",
      "source": [
        "## Model 0: Baseline model"
      ],
      "metadata": {
        "id": "gEVxux4OEdc4"
      }
    },
    {
      "cell_type": "code",
      "source": [
        "from sklearn.feature_extraction.text import TfidfVectorizer\n",
        "from sklearn.naive_bayes import MultinomialNB\n",
        "from sklearn.pipeline import Pipeline"
      ],
      "metadata": {
        "id": "9frLZCnDEgk8"
      },
      "execution_count": 71,
      "outputs": []
    },
    {
      "cell_type": "code",
      "source": [
        "model_0 = Pipeline([\n",
        "    ('tf-idf',TfidfVectorizer()),\n",
        "    ('clf',MultinomialNB())\n",
        "])\n",
        "\n",
        "\n",
        "model_0.fit(X = train_sentences,\n",
        "            y = train_labels_encoded)"
      ],
      "metadata": {
        "colab": {
          "base_uri": "https://localhost:8080/"
        },
        "id": "hdksRbUWE5aY",
        "outputId": "6d89e60e-4125-40e0-f6a7-f52699feef6e"
      },
      "execution_count": 72,
      "outputs": [
        {
          "output_type": "execute_result",
          "data": {
            "text/plain": [
              "Pipeline(steps=[('tf-idf', TfidfVectorizer()), ('clf', MultinomialNB())])"
            ]
          },
          "metadata": {},
          "execution_count": 72
        }
      ]
    },
    {
      "cell_type": "code",
      "source": [
        "model_0.score(X = validate_sentences,\n",
        "              y = val_labels_encoded)"
      ],
      "metadata": {
        "colab": {
          "base_uri": "https://localhost:8080/"
        },
        "id": "N4ZZzL8QFXeX",
        "outputId": "62f2c4d3-834e-4477-f592-50cf5569c236"
      },
      "execution_count": 73,
      "outputs": [
        {
          "output_type": "execute_result",
          "data": {
            "text/plain": [
              "0.7218323844829869"
            ]
          },
          "metadata": {},
          "execution_count": 73
        }
      ]
    },
    {
      "cell_type": "code",
      "source": [
        "model_0_preds = model_0.predict(validate_sentences)\n",
        "model_0_preds"
      ],
      "metadata": {
        "colab": {
          "base_uri": "https://localhost:8080/"
        },
        "id": "Q0qFwyvyGI0D",
        "outputId": "1e4d189f-7639-4c0e-fa6a-7ff6f2396b17"
      },
      "execution_count": 74,
      "outputs": [
        {
          "output_type": "execute_result",
          "data": {
            "text/plain": [
              "array([4, 1, 3, ..., 4, 4, 1])"
            ]
          },
          "metadata": {},
          "execution_count": 74
        }
      ]
    },
    {
      "cell_type": "code",
      "source": [
        "!wget https://raw.githubusercontent.com/mrdbourke/tensorflow-deep-learning/main/extras/helper_functions.py\n"
      ],
      "metadata": {
        "colab": {
          "base_uri": "https://localhost:8080/"
        },
        "id": "PpDSsgYGGjmt",
        "outputId": "2a6ccf9c-aace-4d8d-8b0f-618080a6ef5f"
      },
      "execution_count": 75,
      "outputs": [
        {
          "output_type": "stream",
          "name": "stdout",
          "text": [
            "--2023-02-13 14:44:01--  https://raw.githubusercontent.com/mrdbourke/tensorflow-deep-learning/main/extras/helper_functions.py\n",
            "Resolving raw.githubusercontent.com (raw.githubusercontent.com)... 185.199.108.133, 185.199.109.133, 185.199.110.133, ...\n",
            "Connecting to raw.githubusercontent.com (raw.githubusercontent.com)|185.199.108.133|:443... connected.\n",
            "HTTP request sent, awaiting response... 200 OK\n",
            "Length: 10246 (10K) [text/plain]\n",
            "Saving to: ‘helper_functions.py.1’\n",
            "\n",
            "\rhelper_functions.py   0%[                    ]       0  --.-KB/s               \rhelper_functions.py 100%[===================>]  10.01K  --.-KB/s    in 0s      \n",
            "\n",
            "2023-02-13 14:44:01 (85.4 MB/s) - ‘helper_functions.py.1’ saved [10246/10246]\n",
            "\n"
          ]
        }
      ]
    },
    {
      "cell_type": "code",
      "source": [
        "import helper_functions as hf"
      ],
      "metadata": {
        "id": "Xpn_qoXSHMps"
      },
      "execution_count": 76,
      "outputs": []
    },
    {
      "cell_type": "code",
      "source": [
        "model_0_results = hf.calculate_results(y_true = val_labels_encoded,\n",
        "                                       y_pred = model_0_preds)\n",
        "\n",
        "model_0_results"
      ],
      "metadata": {
        "colab": {
          "base_uri": "https://localhost:8080/"
        },
        "id": "XFPrl06CHQQJ",
        "outputId": "2fa4a434-321d-4650-880e-620cbfe42532"
      },
      "execution_count": 77,
      "outputs": [
        {
          "output_type": "execute_result",
          "data": {
            "text/plain": [
              "{'accuracy': 72.1832384482987,\n",
              " 'precision': 0.7186466952323352,\n",
              " 'recall': 0.7218323844829869,\n",
              " 'f1': 0.6989250353450294}"
            ]
          },
          "metadata": {},
          "execution_count": 77
        }
      ]
    },
    {
      "cell_type": "code",
      "source": [
        "import numpy as np\n",
        "import tensorflow as tf\n",
        "from tensorflow.keras import layers\n",
        "\n"
      ],
      "metadata": {
        "id": "Xgra9K3_IFGx"
      },
      "execution_count": 78,
      "outputs": []
    },
    {
      "cell_type": "code",
      "source": [
        "# Check how long is each sentence on average\n",
        "\n",
        "sent_len = [len(sentence.split()) for sentence in train_sentences]\n",
        "avg_sent_len = np.mean(sent_len)\n",
        "\n",
        "avg_sent_len"
      ],
      "metadata": {
        "colab": {
          "base_uri": "https://localhost:8080/"
        },
        "id": "NfqVpmbxI_ow",
        "outputId": "33c8fbc0-b2ed-47c1-fbec-5f76414addce"
      },
      "execution_count": 79,
      "outputs": [
        {
          "output_type": "execute_result",
          "data": {
            "text/plain": [
              "26.338269273494777"
            ]
          },
          "metadata": {},
          "execution_count": 79
        }
      ]
    },
    {
      "cell_type": "code",
      "source": [
        "from matplotlib import pyplot as plt\n",
        "\n",
        "plt.hist(sent_len, bins = 20);"
      ],
      "metadata": {
        "colab": {
          "base_uri": "https://localhost:8080/",
          "height": 265
        },
        "id": "xXTuReX8J_xy",
        "outputId": "c22afba9-6dcb-462d-bee4-9b83fbd11f9f"
      },
      "execution_count": 80,
      "outputs": [
        {
          "output_type": "display_data",
          "data": {
            "text/plain": [
              "<Figure size 432x288 with 1 Axes>"
            ],
            "image/png": "[encoded data removed]"
          },
          "metadata": {
            "needs_background": "light"
          }
        }
      ]
    },
    {
      "cell_type": "code",
      "source": [
        "output_sent_len = int(np.percentile(sent_len,95))\n",
        "output_sent_len"
      ],
      "metadata": {
        "colab": {
          "base_uri": "https://localhost:8080/"
        },
        "id": "gzIdRw7RKrvc",
        "outputId": "2d133997-b60d-4418-dacd-5c6b57d85743"
      },
      "execution_count": 81,
      "outputs": [
        {
          "output_type": "execute_result",
          "data": {
            "text/plain": [
              "55"
            ]
          },
          "metadata": {},
          "execution_count": 81
        }
      ]
    },
    {
      "cell_type": "code",
      "source": [
        "max_tokens = 68000"
      ],
      "metadata": {
        "id": "lsOV0gTtLMbS"
      },
      "execution_count": 82,
      "outputs": []
    },
    {
      "cell_type": "code",
      "source": [
        "from tensorflow.keras.layers.experimental.preprocessing import TextVectorization\n",
        "\n",
        "text_vectorizer = TextVectorization(max_tokens = max_tokens,\n",
        "                                    output_sequence_length = output_sent_len)"
      ],
      "metadata": {
        "id": "2WzfZDYXL43J"
      },
      "execution_count": 83,
      "outputs": []
    },
    {
      "cell_type": "code",
      "source": [
        "text_vectorizer.adapt(train_sentences)"
      ],
      "metadata": {
        "id": "VF7i2cPyMj37"
      },
      "execution_count": 84,
      "outputs": []
    },
    {
      "cell_type": "code",
      "source": [
        "import random\n",
        "random_sentence = random.choice(train_sentences)\n",
        "print(f'Text:\\n{random_sentence}\\n')\n",
        "print(f'Vectorized text:{text_vectorizer([random_sentence])}')\n"
      ],
      "metadata": {
        "colab": {
          "base_uri": "https://localhost:8080/"
        },
        "id": "RcMC__XuMx2W",
        "outputId": "f039b2d0-5156-4ed8-eafd-e956c863583f"
      },
      "execution_count": 85,
      "outputs": [
        {
          "output_type": "stream",
          "name": "stdout",
          "text": [
            "Text:\n",
            "low levels of cardiorespiratory fitness are associated with high risk of non-communicable diseases and all-cause mortality .\n",
            "\n",
            "Vectorized text:[[  220    93     4  3860  1586    58    81     7   181    73     4 14685\n",
            "   1298     3  1312   259     0     0     0     0     0     0     0     0\n",
            "      0     0     0     0     0     0     0     0     0     0     0     0\n",
            "      0     0     0     0     0     0     0     0     0     0     0     0\n",
            "      0     0     0     0     0     0     0]]\n"
          ]
        }
      ]
    },
    {
      "cell_type": "code",
      "source": [
        "rtc_20k_text_vocab = text_vectorizer.get_vocabulary()\n",
        "print(f'Number of words in vocab: {len(rtc_20k_test_vocab)}')\n",
        "print(f'Most common words in vocab: {rtc_20k_test_vocab[:5]}')\n",
        "print(f'Least common words in vocab: {rtc_20k_test_vocab[-5:]}')\n"
      ],
      "metadata": {
        "colab": {
          "base_uri": "https://localhost:8080/"
        },
        "id": "i2C_veRqNdqc",
        "outputId": "32a0242f-14be-4238-949a-d70b7a65fa9a"
      },
      "execution_count": 91,
      "outputs": [
        {
          "output_type": "stream",
          "name": "stdout",
          "text": [
            "Number of words in vocab: 64841\n",
            "Most common words in vocab: ['', '[UNK]', 'the', 'and', 'of']\n",
            "Least common words in vocab: ['aainduced', 'aaigroup', 'aachener', 'aachen', 'aaacp']\n"
          ]
        }
      ]
    },
    {
      "cell_type": "code",
      "source": [
        "token_embed = layers.Embedding(input_dim = len(rtc_20k_text_vocab),\n",
        "                               output_dim = 128,\n",
        "                               mask_zero = True,\n",
        "                               name = \"token_embedding\")"
      ],
      "metadata": {
        "id": "s0Cr2U5SPYV_"
      },
      "execution_count": 92,
      "outputs": []
    },
    {
      "cell_type": "code",
      "source": [
        "import random\n",
        "random_sentence = random.choice(train_sentences)\n",
        "vectorized_sentence = text_vectorizer([random_sentence])\n",
        "embeded_sentence = token_embed(vectorized_sentence)\n",
        "print(f'Sentence before vectorization:\\n{random_sentence}\\n')\n",
        "print(f'Sentence after vectorization:{vectorized_sentence}')\n",
        "print(f'Sentence after embedding:{embeded_sentence}')\n"
      ],
      "metadata": {
        "id": "yXoLWhN3S1GF",
        "outputId": "7504912d-0c63-4c93-b7ce-6bd204d07602",
        "colab": {
          "base_uri": "https://localhost:8080/"
        }
      },
      "execution_count": 93,
      "outputs": [
        {
          "output_type": "stream",
          "name": "stdout",
          "text": [
            "Sentence before vectorization:\n",
            "flex resulted in a significant decrease in schirmer 's test results , tear film break-up time , and corneal sensation at all postoperative visits , whereas smile induced no significant changes in these parameters ( p > @ ) .\n",
            "\n",
            "Sentence after vectorization:[[8272  568    5    8   37  318    5 6049  130  128  117 2664 4117 7110\n",
            "    63    3 1260 3188   15   62  163  620  436 7623  858   33   37  146\n",
            "     5  111  315   14    0    0    0    0    0    0    0    0    0    0\n",
            "     0    0    0    0    0    0    0    0    0    0    0    0    0]]\n",
            "Sentence after embedding:[[[-0.02250331 -0.04125468 -0.00781745 ...  0.04269719  0.01543896\n",
            "   -0.0451255 ]\n",
            "  [-0.01348159 -0.03788483  0.01228304 ...  0.01044824  0.00843496\n",
            "    0.0298166 ]\n",
            "  [ 0.04727245 -0.02372968  0.0439973  ...  0.02328196 -0.03899934\n",
            "   -0.02860391]\n",
            "  ...\n",
            "  [ 0.04740972  0.02390232  0.00494906 ... -0.01099651  0.03843235\n",
            "   -0.00288662]\n",
            "  [ 0.04740972  0.02390232  0.00494906 ... -0.01099651  0.03843235\n",
            "   -0.00288662]\n",
            "  [ 0.04740972  0.02390232  0.00494906 ... -0.01099651  0.03843235\n",
            "   -0.00288662]]]\n"
          ]
        }
      ]
    },
    {
      "cell_type": "code",
      "source": [
        "vectorized_sentence.shape"
      ],
      "metadata": {
        "id": "tDEe-hWXTmHq",
        "outputId": "084d9e95-4db3-474d-e6af-a6d9410fa3ae",
        "colab": {
          "base_uri": "https://localhost:8080/"
        }
      },
      "execution_count": 95,
      "outputs": [
        {
          "output_type": "execute_result",
          "data": {
            "text/plain": [
              "TensorShape([1, 55])"
            ]
          },
          "metadata": {},
          "execution_count": 95
        }
      ]
    },
    {
      "cell_type": "code",
      "source": [
        "embeded_sentence.shape"
      ],
      "metadata": {
        "id": "aMxj81KeTr8W",
        "outputId": "c4d8f321-ac09-4e7c-fe9a-b0f880e97e16",
        "colab": {
          "base_uri": "https://localhost:8080/"
        }
      },
      "execution_count": 96,
      "outputs": [
        {
          "output_type": "execute_result",
          "data": {
            "text/plain": [
              "TensorShape([1, 55, 128])"
            ]
          },
          "metadata": {},
          "execution_count": 96
        }
      ]
    },
    {
      "cell_type": "code",
      "source": [
        "train_dataset = tf.data.Dataset.from_tensor_slices((train_sentences, train_labels_one_hot))\n",
        "valid_dataset = tf.data.Dataset.from_tensor_slices((validate_sentences,val_labels_one_hot))\n",
        "test_dataset = tf.data.Dataset.from_tensor_slices((test_sentences,test_labels_one_hot))"
      ],
      "metadata": {
        "id": "s07mQF3TT9Tn"
      },
      "execution_count": 99,
      "outputs": []
    },
    {
      "cell_type": "code",
      "source": [
        "train_dataset"
      ],
      "metadata": {
        "id": "8eO5HPa8U_vs",
        "outputId": "129845c4-d41a-41b7-df7d-53d07e9d0c50",
        "colab": {
          "base_uri": "https://localhost:8080/"
        }
      },
      "execution_count": 100,
      "outputs": [
        {
          "output_type": "execute_result",
          "data": {
            "text/plain": [
              "<TensorSliceDataset element_spec=(TensorSpec(shape=(), dtype=tf.string, name=None), TensorSpec(shape=(5,), dtype=tf.float64, name=None))>"
            ]
          },
          "metadata": {},
          "execution_count": 100
        }
      ]
    },
    {
      "cell_type": "code",
      "source": [
        "train_dataset = train_dataset.batch(32).prefetch(tf.data.AUTOTUNE)"
      ],
      "metadata": {
        "id": "J3BbjVkcVJZQ"
      },
      "execution_count": 101,
      "outputs": []
    },
    {
      "cell_type": "code",
      "source": [
        "test_dataset = test_dataset.batch(32).prefetch(tf.data.AUTOTUNE)"
      ],
      "metadata": {
        "id": "-j0dHbwQVmxV"
      },
      "execution_count": 102,
      "outputs": []
    },
    {
      "cell_type": "code",
      "source": [
        "valid_dataset = valid_dataset.batch(32).prefetch(tf.data.AUTOTUNE)"
      ],
      "metadata": {
        "id": "jj7UBbm9Vsr6"
      },
      "execution_count": 103,
      "outputs": []
    },
    {
      "cell_type": "code",
      "source": [],
      "metadata": {
        "id": "g2_nJDXoVvff"
      },
      "execution_count": null,
      "outputs": []
    },
    {
      "cell_type": "markdown",
      "source": [
        "## Model 1: Conv1D"
      ],
      "metadata": {
        "id": "MBRDePTOWBpD"
      }
    },
    {
      "cell_type": "code",
      "source": [
        "inputs = layers.Input(shape = (1,), dtype = tf.string)\n",
        "text_vectors = text_vectorizer(inputs)\n",
        "token_embeddings = token_embed(text_vectors)\n",
        "x = layers.Conv1D(64, kernel_size = 5, padding = \"same\", activation = 'relu')(token_embeddings)\n",
        "x = layers.GlobalAveragePooling1D()(x)\n",
        "outputs = layers.Dense(num_classes, activation = 'softmax')(x)\n",
        "model_1 = tf.keras.Model(inputs, outputs)\n",
        "\n",
        "model_1.compile(loss = 'categorical_crossentropy',\n",
        "                optimizer = tf.keras.optimizers.Adam(),\n",
        "                metrics = ['accuracy'])"
      ],
      "metadata": {
        "id": "1D8AD6vlWEgY"
      },
      "execution_count": 106,
      "outputs": []
    },
    {
      "cell_type": "code",
      "source": [
        "model_1.summary()"
      ],
      "metadata": {
        "id": "V4XWd3hYW_ti",
        "outputId": "99f30e49-f4c8-4438-9a0e-bd34b5092df5",
        "colab": {
          "base_uri": "https://localhost:8080/"
        }
      },
      "execution_count": 107,
      "outputs": [
        {
          "output_type": "stream",
          "name": "stdout",
          "text": [
            "Model: \"model\"\n",
            "_________________________________________________________________\n",
            " Layer (type)                Output Shape              Param #   \n",
            "=================================================================\n",
            " input_3 (InputLayer)        [(None, 1)]               0         \n",
            "                                                                 \n",
            " text_vectorization_1 (TextV  (None, 55)               0         \n",
            " ectorization)                                                   \n",
            "                                                                 \n",
            " token_embedding (Embedding)  (None, 55, 128)          8299648   \n",
            "                                                                 \n",
            " conv1d_1 (Conv1D)           (None, 55, 64)            41024     \n",
            "                                                                 \n",
            " global_average_pooling1d_1   (None, 64)               0         \n",
            " (GlobalAveragePooling1D)                                        \n",
            "                                                                 \n",
            " dense (Dense)               (None, 5)                 325       \n",
            "                                                                 \n",
            "=================================================================\n",
            "Total params: 8,340,997\n",
            "Trainable params: 8,340,997\n",
            "Non-trainable params: 0\n",
            "_________________________________________________________________\n"
          ]
        }
      ]
    },
    {
      "cell_type": "code",
      "source": [
        "history_model_1 = model_1.fit(train_dataset,\n",
        "                              steps_per_epoch = int(0.1*len(train_dataset)),\n",
        "                              epochs = 3,\n",
        "                              verbose = 1,\n",
        "                              validation_data = valid_dataset,\n",
        "                              validation_steps = int(0.1 * len(valid_dataset)))"
      ],
      "metadata": {
        "id": "HXf3AIFtXXUL",
        "outputId": "ffbba68d-8a10-419b-d33a-2e16d6c142ae",
        "colab": {
          "base_uri": "https://localhost:8080/"
        }
      },
      "execution_count": 110,
      "outputs": [
        {
          "output_type": "stream",
          "name": "stdout",
          "text": [
            "Epoch 1/3\n",
            "562/562 [==============================] - 37s 47ms/step - loss: 0.9145 - accuracy: 0.6423 - val_loss: 0.6848 - val_accuracy: 0.7414\n",
            "Epoch 2/3\n",
            "562/562 [==============================] - 8s 14ms/step - loss: 0.6570 - accuracy: 0.7572 - val_loss: 0.6268 - val_accuracy: 0.7716\n",
            "Epoch 3/3\n",
            "562/562 [==============================] - 5s 9ms/step - loss: 0.6177 - accuracy: 0.7724 - val_loss: 0.5951 - val_accuracy: 0.7852\n"
          ]
        }
      ]
    },
    {
      "cell_type": "code",
      "source": [
        "model_1.evaluate(valid_dataset)"
      ],
      "metadata": {
        "id": "mATSHv8jX_--",
        "outputId": "5648cb8d-018c-496e-d0bd-2472518ee70e",
        "colab": {
          "base_uri": "https://localhost:8080/"
        }
      },
      "execution_count": 111,
      "outputs": [
        {
          "output_type": "stream",
          "name": "stdout",
          "text": [
            "945/945 [==============================] - 5s 5ms/step - loss: 0.5986 - accuracy: 0.7856\n"
          ]
        },
        {
          "output_type": "execute_result",
          "data": {
            "text/plain": [
              "[0.5986371040344238, 0.7855818867683411]"
            ]
          },
          "metadata": {},
          "execution_count": 111
        }
      ]
    },
    {
      "cell_type": "code",
      "source": [
        "model_1_preds = model_1.predict(valid_dataset)\n",
        "model_1_preds"
      ],
      "metadata": {
        "id": "vmC6ZpIgYiks",
        "outputId": "075a04ae-7d45-4cbc-c638-cb277a2cfc90",
        "colab": {
          "base_uri": "https://localhost:8080/"
        }
      },
      "execution_count": 113,
      "outputs": [
        {
          "output_type": "stream",
          "name": "stdout",
          "text": [
            "945/945 [==============================] - 3s 3ms/step\n"
          ]
        },
        {
          "output_type": "execute_result",
          "data": {
            "text/plain": [
              "array([[4.1912293e-01, 1.6832657e-01, 7.6968230e-02, 3.0699351e-01,\n",
              "        2.8588722e-02],\n",
              "       [4.8048219e-01, 2.2831860e-01, 1.3416691e-02, 2.7021727e-01,\n",
              "        7.5653172e-03],\n",
              "       [1.4327852e-01, 5.2064662e-03, 1.9270000e-03, 8.4952271e-01,\n",
              "        6.5289889e-05],\n",
              "       ...,\n",
              "       [4.9729747e-06, 6.6879869e-04, 6.7629904e-04, 3.0085712e-06,\n",
              "        9.9864691e-01],\n",
              "       [5.4031160e-02, 5.1107568e-01, 7.9570040e-02, 6.0817827e-02,\n",
              "        2.9450524e-01],\n",
              "       [1.5531531e-01, 7.0128244e-01, 5.7757303e-02, 3.6108892e-02,\n",
              "        4.9536083e-02]], dtype=float32)"
            ]
          },
          "metadata": {},
          "execution_count": 113
        }
      ]
    },
    {
      "cell_type": "code",
      "source": [
        "model_1_preds = tf.argmax(model_1_preds,axis=1)"
      ],
      "metadata": {
        "id": "Xf7l-yqKYswC"
      },
      "execution_count": 114,
      "outputs": []
    },
    {
      "cell_type": "code",
      "source": [
        "model_1_preds"
      ],
      "metadata": {
        "id": "IRt3vSlYY2dE",
        "outputId": "b2bec109-7c83-42c3-b602-6bd0b3e8c370",
        "colab": {
          "base_uri": "https://localhost:8080/"
        }
      },
      "execution_count": 115,
      "outputs": [
        {
          "output_type": "execute_result",
          "data": {
            "text/plain": [
              "<tf.Tensor: shape=(30212,), dtype=int64, numpy=array([0, 0, 3, ..., 4, 1, 1])>"
            ]
          },
          "metadata": {},
          "execution_count": 115
        }
      ]
    },
    {
      "cell_type": "code",
      "source": [
        "model_1_results = hf.calculate_results(y_true = val_labels_encoded,\n",
        "                                       y_pred = model_1_preds)"
      ],
      "metadata": {
        "id": "yyeFurjAY3UR"
      },
      "execution_count": 117,
      "outputs": []
    },
    {
      "cell_type": "code",
      "source": [
        "model_1_results"
      ],
      "metadata": {
        "id": "vgQMMUqVZFFx",
        "outputId": "ba1f4a81-b4e7-4d95-807e-c898f5bd7cb1",
        "colab": {
          "base_uri": "https://localhost:8080/"
        }
      },
      "execution_count": 118,
      "outputs": [
        {
          "output_type": "execute_result",
          "data": {
            "text/plain": [
              "{'accuracy': 78.55818879915265,\n",
              " 'precision': 0.7823950020038968,\n",
              " 'recall': 0.7855818879915265,\n",
              " 'f1': 0.7830562617583428}"
            ]
          },
          "metadata": {},
          "execution_count": 118
        }
      ]
    },
    {
      "cell_type": "code",
      "source": [
        "model_0_results"
      ],
      "metadata": {
        "id": "0EMO3MJyZLva",
        "outputId": "1ccd516a-e127-4eb0-a9f6-f9e5a06652d0",
        "colab": {
          "base_uri": "https://localhost:8080/"
        }
      },
      "execution_count": 119,
      "outputs": [
        {
          "output_type": "execute_result",
          "data": {
            "text/plain": [
              "{'accuracy': 72.1832384482987,\n",
              " 'precision': 0.7186466952323352,\n",
              " 'recall': 0.7218323844829869,\n",
              " 'f1': 0.6989250353450294}"
            ]
          },
          "metadata": {},
          "execution_count": 119
        }
      ]
    },
    {
      "cell_type": "code",
      "source": [],
      "metadata": {
        "id": "L8lQuK2TZPn6"
      },
      "execution_count": null,
      "outputs": []
    },
    {
      "cell_type": "markdown",
      "source": [
        "## Model 2: "
      ],
      "metadata": {
        "id": "VwC3K8mhZcEC"
      }
    },
    {
      "cell_type": "code",
      "source": [
        "import tensorflow_hub as hub\n",
        "tf_hub_embedding_layer = hub.KerasLayer('https://tfhub.dev/google/universal-sentence-encoder/4',\n",
        "                                        trainable = False,\n",
        "                                        name = 'universal_sentence_encoder')"
      ],
      "metadata": {
        "id": "PvuOU1CsZskT",
        "outputId": "f89b23ec-2393-4abb-a51d-829d2d8067d6",
        "colab": {
          "base_uri": "https://localhost:8080/"
        }
      },
      "execution_count": 121,
      "outputs": [
        {
          "output_type": "stream",
          "name": "stderr",
          "text": [
            "WARNING:tensorflow:Please fix your imports. Module tensorflow.python.training.tracking.data_structures has been moved to tensorflow.python.trackable.data_structures. The old module will be deleted in version 2.11.\n"
          ]
        }
      ]
    },
    {
      "cell_type": "code",
      "source": [
        "import random\n",
        "\n",
        "random_sentence = random.choice(train_sentences)\n",
        "print(f'Original sentence:\\n{random_sentence}\\n')\n",
        "print(f'Encoded sentence:\\n{tf_hub_embedding_layer([random_sentence])}\\n')"
      ],
      "metadata": {
        "id": "EeMe2XqCbZlx",
        "outputId": "30d05d72-bd34-4d68-e94c-5cb467411887",
        "colab": {
          "base_uri": "https://localhost:8080/"
        }
      },
      "execution_count": 123,
      "outputs": [
        {
          "output_type": "stream",
          "name": "stdout",
          "text": [
            "Original sentence:\n",
            "a hyaluronic acid/carboxymethylcellulose ( ha/cmc ) film adhesion barrier has been shown to reduce adhesion formation in abdominal surgery .\n",
            "\n",
            "Encoded sentence:\n",
            "[[ 0.05660293  0.02045659 -0.00410669 -0.07620489 -0.07192852  0.06722292\n",
            "   0.02043729  0.0492257   0.05777825  0.05276154 -0.00759346  0.00944385\n",
            "   0.02653214  0.06586728  0.05336604 -0.0292442  -0.05318552  0.03144157\n",
            "  -0.01035781 -0.00054802 -0.08403871 -0.04068842 -0.06374101  0.02226038\n",
            "   0.07860816 -0.03763506  0.04061091 -0.03253897  0.01759654  0.07234114\n",
            "  -0.05731559  0.08648834 -0.01751553 -0.03693837 -0.07618687 -0.02347337\n",
            "  -0.00983412  0.03898901 -0.0501008  -0.03686526 -0.06269514 -0.00277906\n",
            "  -0.04274575  0.05180445  0.02887811 -0.06524853  0.02997295  0.03225517\n",
            "   0.01857606  0.04132264 -0.07468411 -0.02777499 -0.0106936  -0.02008207\n",
            "   0.02085227 -0.04356797  0.03643141 -0.07676913  0.07511539 -0.01133403\n",
            "   0.00956957  0.07343306  0.02918262 -0.00538124  0.02032427 -0.01761122\n",
            "   0.05622568  0.00075281 -0.01168213  0.04094684  0.03264833 -0.02059149\n",
            "   0.00474913 -0.06336682 -0.05479723  0.07656264 -0.01793229 -0.04903316\n",
            "   0.02309869 -0.01507796 -0.04216864 -0.00853312  0.04858937 -0.04772352\n",
            "  -0.02032994 -0.04809611  0.0022898   0.02084345 -0.02716142  0.02771581\n",
            "  -0.08390436  0.06778262 -0.02949634 -0.02050688  0.06450668 -0.03362215\n",
            "   0.01764753 -0.02978262 -0.02178675 -0.03995226 -0.05832992  0.01659068\n",
            "   0.03454418  0.03640331  0.06628757 -0.07346344  0.00276423  0.06183796\n",
            "   0.0591236  -0.00301704  0.0724511   0.02623112 -0.00762829  0.01993395\n",
            "   0.02810258  0.05263853  0.0528201  -0.02403473  0.01339339  0.02318133\n",
            "   0.06548357 -0.00464796 -0.06347888  0.06746802  0.03255529  0.05393113\n",
            "   0.02389974  0.05296576 -0.03119921  0.04935898 -0.01391396  0.08762456\n",
            "   0.07190706 -0.02077424 -0.05468426 -0.00664687  0.0546196   0.04377317\n",
            "   0.00396617  0.05018131 -0.03374647  0.04486198 -0.06327499 -0.0084617\n",
            "  -0.01961353  0.0387898   0.06216396 -0.05127414 -0.04743116  0.00575016\n",
            "  -0.00209861 -0.04957594 -0.07011113  0.04772196  0.07065389  0.02793141\n",
            "  -0.02251387  0.05571816 -0.01530437 -0.04309402  0.00737896  0.0244739\n",
            "  -0.01186903 -0.07013102  0.01370152  0.02874257 -0.04015636 -0.00572785\n",
            "  -0.02374879 -0.07148929 -0.04042603 -0.06218573  0.02526465  0.06218745\n",
            "  -0.05233811  0.06733155  0.02954215  0.04934972  0.06267572  0.06655723\n",
            "  -0.01136396  0.07726452  0.01821185  0.07125514 -0.07433303 -0.01331353\n",
            "  -0.00625284  0.00879058  0.04083902 -0.00461811 -0.0764689  -0.04016028\n",
            "  -0.03538997  0.02695514  0.02732687  0.01445018 -0.03181361 -0.06331364\n",
            "  -0.04400337 -0.00337258 -0.00162584 -0.04764507 -0.05844124  0.04429064\n",
            "   0.00785557 -0.00638169  0.05862761  0.02200442  0.04524815 -0.03911554\n",
            "  -0.01644764 -0.03976326  0.02799018 -0.01583916  0.01444154 -0.06536182\n",
            "   0.07505675  0.05239318  0.04162265  0.0734308   0.04047106  0.0486476\n",
            "   0.03927606  0.0200781   0.06383651  0.04516675 -0.05982829  0.06727967\n",
            "  -0.01107305  0.01171631 -0.01937217  0.00688627 -0.0024548  -0.04727018\n",
            "  -0.08155659 -0.03880018  0.05211126 -0.04815167 -0.07801001  0.01662617\n",
            "   0.0145588   0.03825655  0.06003604  0.03763492 -0.07139761 -0.05803841\n",
            "  -0.02636158  0.01644289  0.01076908 -0.08863954  0.05787453  0.05745238\n",
            "  -0.03461962  0.01817249  0.01345538  0.03314295 -0.03532641  0.01775811\n",
            "   0.04108666  0.05706697 -0.05596922  0.03044412 -0.01554333 -0.00796831\n",
            "  -0.07979906  0.05748079  0.00551901  0.02844157 -0.02719552  0.00442382\n",
            "  -0.02256931 -0.00059567 -0.02066112  0.06716783  0.00726736  0.0184278\n",
            "   0.06549054 -0.05401708 -0.01587933 -0.03947548  0.02380173 -0.05118288\n",
            "   0.06213159  0.0250125  -0.0530989  -0.0765413  -0.06926544  0.04806169\n",
            "  -0.00927831 -0.05806959  0.00383264 -0.02524935 -0.07265208 -0.03172107\n",
            "   0.06853826 -0.01695392 -0.04270042 -0.01810886 -0.01596011 -0.04114037\n",
            "  -0.01239246 -0.02108412 -0.01353942 -0.02026283 -0.06748519  0.04968617\n",
            "  -0.07249182 -0.06661582 -0.06185516 -0.07982815 -0.05186893  0.00189598\n",
            "   0.05463701 -0.01579838  0.00611228  0.04151974  0.03993736 -0.06423916\n",
            "  -0.05374965  0.03412889 -0.06879999 -0.03557248 -0.04529281 -0.04910278\n",
            "  -0.01637154  0.04570885  0.01041055 -0.06992035  0.06108103 -0.0426838\n",
            "   0.03832313 -0.01981228  0.04088482 -0.05859816 -0.02496703  0.01491968\n",
            "  -0.01598324 -0.05043156  0.01771681 -0.05797811  0.04856889 -0.00651709\n",
            "  -0.03124708  0.014277    0.00345443 -0.07107073 -0.03599759 -0.05556452\n",
            "  -0.08129521  0.08240277  0.04064092 -0.04640996  0.01771062 -0.02229077\n",
            "   0.06863561  0.00118739 -0.04910087  0.01841301  0.03051448 -0.02273803\n",
            "   0.00918267  0.03301157 -0.07618022 -0.01622956  0.03402664  0.02096254\n",
            "  -0.01938454  0.01712064  0.0265967   0.07026484 -0.0064239  -0.04317563\n",
            "  -0.02855882 -0.06602656 -0.02471641 -0.00746481 -0.04463082 -0.02492574\n",
            "   0.02181903  0.00939981  0.01981519  0.08356909  0.03332368 -0.04680502\n",
            "  -0.00786654 -0.04434929 -0.01665399  0.07624599  0.06419171  0.04009758\n",
            "  -0.02860544  0.05906373  0.04462523  0.00032197 -0.02531975  0.0334274\n",
            "   0.05826121 -0.06162757  0.01375507 -0.03001397  0.05447081 -0.03844821\n",
            "  -0.05222462  0.00187425  0.08495077  0.01212471  0.00332667  0.06066326\n",
            "   0.03784252 -0.00299531  0.00481493  0.05277116  0.05131867 -0.02982949\n",
            "   0.08128974 -0.02346105 -0.02894605  0.02476011  0.05192384  0.05313368\n",
            "   0.00201388 -0.05473863 -0.0253748  -0.04114198  0.00863911 -0.02085664\n",
            "   0.03582458 -0.05222294  0.04157221  0.07892077 -0.0119921   0.03683319\n",
            "  -0.03653491 -0.00598151 -0.02632099  0.0600613  -0.02973845 -0.02435224\n",
            "  -0.00747778  0.06232573 -0.06759121 -0.05474187 -0.05598372 -0.02126391\n",
            "   0.00382316  0.02026173  0.01198854  0.05868841 -0.02942578  0.01907004\n",
            "   0.02727338 -0.05631759 -0.00300073 -0.02822258  0.02887687 -0.04033915\n",
            "  -0.07973228  0.01208473  0.016914    0.03170711 -0.02082466  0.02403657\n",
            "  -0.07736904  0.04452719  0.03294646  0.03895904 -0.05001358 -0.07269444\n",
            "   0.0548287  -0.07534189  0.02777522 -0.02082456 -0.02147858 -0.05294897\n",
            "  -0.00986663 -0.04767104  0.07920921 -0.04256263  0.0325447  -0.0543076\n",
            "   0.05179701 -0.00920728  0.01593039  0.01822579  0.05545212 -0.04829988\n",
            "   0.04671366  0.06494087  0.02759461 -0.0438256  -0.0553412   0.05589156\n",
            "   0.04530865  0.01000251  0.05365734 -0.03658145  0.06019662  0.03710757\n",
            "  -0.03101588  0.02290743  0.00683205 -0.01153026 -0.05957725  0.01031311\n",
            "   0.04367647 -0.08403812 -0.0372619   0.06918848  0.01037873  0.06423829\n",
            "   0.04794329 -0.06591494]]\n",
            "\n"
          ]
        }
      ]
    },
    {
      "cell_type": "code",
      "source": [
        "inputs = layers.Input(shape = [], dtype = tf.string)\n",
        "token_embeddings = tf_hub_embedding_layer(inputs)\n",
        "x = layers.Dense(128, activation = 'relu')(token_embeddings)\n",
        "outputs = layers.Dense(num_classes, activation = 'softmax')(x)\n",
        "model_2 = tf.keras.Model(inputs, outputs)\n",
        "\n",
        "model_2.compile(loss = 'categorical_crossentropy',\n",
        "                optimizer = tf.keras.optimizers.Adam(),\n",
        "                metrics = ['accuracy'])"
      ],
      "metadata": {
        "id": "v2CS_HEBb2VJ"
      },
      "execution_count": 127,
      "outputs": []
    },
    {
      "cell_type": "code",
      "source": [
        "model_2.summary()"
      ],
      "metadata": {
        "id": "KCHYH8VEdQnZ",
        "outputId": "70163c5d-7c3f-4860-c123-0a6f7c8d9260",
        "colab": {
          "base_uri": "https://localhost:8080/"
        }
      },
      "execution_count": 128,
      "outputs": [
        {
          "output_type": "stream",
          "name": "stdout",
          "text": [
            "Model: \"model_1\"\n",
            "_________________________________________________________________\n",
            " Layer (type)                Output Shape              Param #   \n",
            "=================================================================\n",
            " input_7 (InputLayer)        [(None,)]                 0         \n",
            "                                                                 \n",
            " universal_sentence_encoder   (None, 512)              256797824 \n",
            " (KerasLayer)                                                    \n",
            "                                                                 \n",
            " dense_1 (Dense)             (None, 128)               65664     \n",
            "                                                                 \n",
            " dense_2 (Dense)             (None, 5)                 645       \n",
            "                                                                 \n",
            "=================================================================\n",
            "Total params: 256,864,133\n",
            "Trainable params: 66,309\n",
            "Non-trainable params: 256,797,824\n",
            "_________________________________________________________________\n"
          ]
        }
      ]
    },
    {
      "cell_type": "code",
      "source": [
        "history_model_2 = model_2.fit(train_dataset,\n",
        "                              steps_per_epoch = int(0.1*len(train_dataset)),\n",
        "                              epochs = 3,\n",
        "                              verbose = 1,\n",
        "                              validation_data = valid_dataset,\n",
        "                              validation_steps = int(0.1 * len(valid_dataset)))"
      ],
      "metadata": {
        "id": "gr2C0YOmccRQ",
        "outputId": "7df20399-9e19-4547-e96c-9535cd330edb",
        "colab": {
          "base_uri": "https://localhost:8080/"
        }
      },
      "execution_count": 129,
      "outputs": [
        {
          "output_type": "stream",
          "name": "stdout",
          "text": [
            "Epoch 1/3\n",
            "562/562 [==============================] - 14s 19ms/step - loss: 0.9168 - accuracy: 0.6490 - val_loss: 0.7948 - val_accuracy: 0.6895\n",
            "Epoch 2/3\n",
            "562/562 [==============================] - 11s 19ms/step - loss: 0.7679 - accuracy: 0.7028 - val_loss: 0.7533 - val_accuracy: 0.7088\n",
            "Epoch 3/3\n",
            "562/562 [==============================] - 12s 22ms/step - loss: 0.7504 - accuracy: 0.7129 - val_loss: 0.7377 - val_accuracy: 0.7141\n"
          ]
        }
      ]
    },
    {
      "cell_type": "code",
      "source": [
        "model_2.evaluate(valid_dataset)"
      ],
      "metadata": {
        "id": "irfewVZDdWKJ",
        "outputId": "22d9f175-722f-4d30-b188-8811da7a65fd",
        "colab": {
          "base_uri": "https://localhost:8080/"
        }
      },
      "execution_count": 130,
      "outputs": [
        {
          "output_type": "stream",
          "name": "stdout",
          "text": [
            "945/945 [==============================] - 14s 15ms/step - loss: 0.7401 - accuracy: 0.7143\n"
          ]
        },
        {
          "output_type": "execute_result",
          "data": {
            "text/plain": [
              "[0.740071177482605, 0.7142525911331177]"
            ]
          },
          "metadata": {},
          "execution_count": 130
        }
      ]
    },
    {
      "cell_type": "code",
      "source": [
        "model_2_preds = model_2.predict(valid_dataset)\n",
        "model_2_preds"
      ],
      "metadata": {
        "id": "wH1Z3SuddiJI",
        "outputId": "b844de90-7c11-44e2-b3ec-2f55f727d9b8",
        "colab": {
          "base_uri": "https://localhost:8080/"
        }
      },
      "execution_count": 131,
      "outputs": [
        {
          "output_type": "stream",
          "name": "stdout",
          "text": [
            "945/945 [==============================] - 15s 16ms/step\n"
          ]
        },
        {
          "output_type": "execute_result",
          "data": {
            "text/plain": [
              "array([[4.6877906e-01, 3.2429561e-01, 2.3681468e-03, 1.9655253e-01,\n",
              "        8.0046458e-03],\n",
              "       [3.6584941e-01, 4.9153921e-01, 4.1080955e-03, 1.3461663e-01,\n",
              "        3.8866671e-03],\n",
              "       [2.3361769e-01, 1.5411729e-01, 2.1979634e-02, 5.5213678e-01,\n",
              "        3.8148660e-02],\n",
              "       ...,\n",
              "       [2.2408278e-03, 7.0819394e-03, 5.5455547e-02, 8.2182529e-04,\n",
              "        9.3439984e-01],\n",
              "       [3.7691009e-03, 5.2410431e-02, 2.1372755e-01, 1.5488848e-03,\n",
              "        7.2854406e-01],\n",
              "       [1.6403753e-01, 2.2642711e-01, 5.3936845e-01, 9.5935967e-03,\n",
              "        6.0573272e-02]], dtype=float32)"
            ]
          },
          "metadata": {},
          "execution_count": 131
        }
      ]
    },
    {
      "cell_type": "code",
      "source": [
        "model_2_preds = tf.argmax(model_2_preds,axis=1)"
      ],
      "metadata": {
        "id": "aojZfvvRdj7Z"
      },
      "execution_count": 132,
      "outputs": []
    },
    {
      "cell_type": "code",
      "source": [
        "model_2_results = hf.calculate_results(y_true = val_labels_encoded,\n",
        "                                       y_pred = model_2_preds)"
      ],
      "metadata": {
        "id": "dw-A_Ze_dn9W"
      },
      "execution_count": 133,
      "outputs": []
    },
    {
      "cell_type": "code",
      "source": [
        "model_2_results"
      ],
      "metadata": {
        "id": "L-uIr4OPdvFM",
        "outputId": "5c3c253f-b172-438e-d51e-6f0372ab7961",
        "colab": {
          "base_uri": "https://localhost:8080/"
        }
      },
      "execution_count": 134,
      "outputs": [
        {
          "output_type": "execute_result",
          "data": {
            "text/plain": [
              "{'accuracy': 71.42526148550245,\n",
              " 'precision': 0.7139702657340281,\n",
              " 'recall': 0.7142526148550244,\n",
              " 'f1': 0.7111305433883727}"
            ]
          },
          "metadata": {},
          "execution_count": 134
        }
      ]
    },
    {
      "cell_type": "code",
      "source": [],
      "metadata": {
        "id": "3uYg6gyOdw8H"
      },
      "execution_count": null,
      "outputs": []
    }
  ]
}